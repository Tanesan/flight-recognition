{
 "cells": [
  {
   "cell_type": "code",
   "execution_count": null,
   "metadata": {
    "colab": {
     "base_uri": "https://localhost:8080/"
    },
    "id": "GP8CWjBQCP4j",
    "outputId": "c9f596c6-a83e-4853-a695-a32beed0a90d"
   },
   "outputs": [],
   "source": []
  },
  {
   "cell_type": "code",
   "execution_count": null,
   "metadata": {
    "colab": {
     "base_uri": "https://localhost:8080/"
    },
    "id": "H4CMD-itBm_T",
    "outputId": "b15033ac-fbd5-442f-9199-b5077e619bcd"
   },
   "outputs": [],
   "source": []
  },
  {
   "cell_type": "code",
   "execution_count": null,
   "metadata": {},
   "outputs": [],
   "source": []
  },
  {
   "cell_type": "code",
   "execution_count": 1,
   "metadata": {},
   "outputs": [
    {
     "data": {
      "text/plain": [
       "True"
      ]
     },
     "execution_count": 1,
     "metadata": {},
     "output_type": "execute_result"
    }
   ],
   "source": [
    "import torch\n",
    "torch.cuda.is_available()"
   ]
  },
  {
   "cell_type": "code",
   "execution_count": 2,
   "metadata": {
    "colab": {
     "base_uri": "https://localhost:8080/",
     "height": 81,
     "referenced_widgets": [
      "5535eaf5b86241c4942f0d03c50246a0",
      "1ba75ea8695e471787b7d63739ec8d1c",
      "a68e528a08de460389937c2870ba5001",
      "ad21cb54142448c4aa7a27ed69ef86ac",
      "cef26c7fa66a48aa99cec85e0a65ed9d",
      "0293c307ae5e4ca99750bda19db67fbf",
      "6084c0dfe2dd47bcbde87eee4a66fbf9",
      "9b7bfa3672234fcdb6d5c505bedf0c31",
      "3920bb41dd1b46469b202e5563cb10b3",
      "4956921e05b54485b69652ed3a8d069b",
      "2e1955e37fd5409f94e69fb9f8eef912",
      "fe3e69677d7d4b7c8bfcfe7f46af6f71",
      "8d666de53b8745daa21e1dc2b0d588fe",
      "e39bae9430ac4394b480c660e9eff398",
      "19367988bef444c9829eee32dcd15674",
      "3078a0aed67c417f8087a9f4dfb5e022",
      "dfb0704b8b2b4551a56b3aa7d4c429e1",
      "99ded83432014bf39d7de4d887129115",
      "8b6158685d37449fad61b708d84a056d",
      "b3cf7062c6f0436ba907f6d4a6a44264",
      "12a2ddb67e5846a78dfd066d3cf0ca61",
      "1f272491dd7d4bac9b77a2abda7aae7e"
     ]
    },
    "id": "lZbCk8DCBnB3",
    "outputId": "7d0489c3-1984-4791-ebfc-fb3f4b4d8e33"
   },
   "outputs": [],
   "source": [
    "from transformers import AutoImageProcessor, DeiTForImageClassificationWithTeacher\n",
    "import torch\n",
    "from torchvision import datasets, transforms\n",
    "from PIL import Image, ImageFile\n",
    "ImageFile.LOAD_TRUNCATED_IMAGES = True\n",
    "\n",
    "\n",
    "def get_test_transforms(input_size=224):\n",
    "    # mean, std = [0.0097, 0.2639, 0.6058],[0.9863, 0.9759, 1.1187]\n",
    "    transformations = {}\n",
    "    transformations= transforms.Compose(\n",
    "        [transforms.Resize(input_size, interpolation=3),\n",
    "         transforms.CenterCrop(input_size),\n",
    "         transforms.RandomHorizontalFlip(),\n",
    "    transforms.RandomRotation(10),\n",
    "    transforms.ColorJitter(brightness=0.2, contrast=0.2),\n",
    "        # transforms.Grayscale(),`\n",
    "         transforms.ToTensor(),\n",
    "    # transforms.Normalize(mean, std),\n",
    "        ])\n",
    "    return transformations\n",
    "\n",
    "train_dataset = datasets.ImageFolder(root='/Users/keito/Desktop/img/train', transform=get_test_transforms())\n",
    "val_dataset = datasets.ImageFolder(root='/Users/keito/Desktop/img/val', transform=get_test_transforms())\n",
    "\n",
    "\n",
    "from torch.utils.data import DataLoader\n",
    "\n",
    "train_loader = DataLoader(train_dataset, batch_size=32, shuffle=True)\n",
    "val_loader = DataLoader(val_dataset, batch_size=32)\n",
    "\n",
    "\n",
    "from transformers import DeiTForImageClassificationWithTeacher\n",
    "\n",
    "model = DeiTForImageClassificationWithTeacher.from_pretrained('facebook/deit-base-distilled-patch16-224')\n",
    "\n",
    "import torch.optim as optim\n",
    "import torch.nn as nn\n",
    "\n",
    "optimizer = optim.Adam(model.parameters(), lr=0.001)\n",
    "criterion = nn.CrossEntropyLoss()\n",
    "\n",
    "def train(model, train_loader, criterion, optimizer, device):\n",
    "    model.train()\n",
    "    total_loss = 0\n",
    "\n",
    "    for images, labels in train_loader:\n",
    "        images, labels = images.to(device), labels.to(device)\n",
    "\n",
    "        optimizer.zero_grad()\n",
    "\n",
    "        outputs = model(images)\n",
    "\n",
    "        loss = criterion(outputs.logits, labels)\n",
    "        total_loss += loss.item()\n",
    "\n",
    "        loss.backward()\n",
    "\n",
    "        optimizer.step()\n",
    "\n",
    "\n",
    "    average_loss = total_loss / len(train_loader)\n",
    "    return average_loss\n",
    "\n"
   ]
  },
  {
   "cell_type": "code",
   "execution_count": 24,
   "metadata": {},
   "outputs": [
    {
     "name": "stderr",
     "output_type": "stream",
     "text": [
      "\n",
      "KeyboardInterrupt\n",
      "\n"
     ]
    }
   ],
   "source": [
    "def calculate_mean_std(dataloader):\n",
    "    channels_sum, channels_squared_sum, num_batches = 0, 0, 0\n",
    "\n",
    "    for data, _ in dataloader:\n",
    "        channels_sum += torch.mean(data, dim=[0, 2, 3])\n",
    "        channels_squared_sum += torch.mean(data**2, dim=[0, 2, 3])\n",
    "        num_batches += 1\n",
    "\n",
    "    mean = channels_sum / num_batches\n",
    "    std = (channels_squared_sum / num_batches - mean**2)**0.5\n",
    "\n",
    "    return mean, std\n",
    "\n",
    "mean, std = calculate_mean_std(train_loader)\n",
    "print(f\"Mean: {mean}\")\n",
    "print(f\"Std: {std}\")\n",
    "calculate_mean_std(dataloader)"
   ]
  },
  {
   "cell_type": "code",
   "execution_count": null,
   "metadata": {},
   "outputs": [],
   "source": []
  },
  {
   "cell_type": "code",
   "execution_count": null,
   "metadata": {},
   "outputs": [],
   "source": []
  },
  {
   "cell_type": "code",
   "execution_count": 3,
   "metadata": {
    "id": "xImLQxzbBnEe"
   },
   "outputs": [],
   "source": [
    "def validate(model, val_loader, criterion, device):\n",
    "    model.eval()\n",
    "    total_loss = 0\n",
    "    correct = 0\n",
    "    total = 0\n",
    "\n",
    "    with torch.no_grad():\n",
    "        for images, labels in val_loader:\n",
    "            images, labels = images.to(device), labels.to(device)\n",
    "\n",
    "            outputs = model(images)\n",
    "\n",
    "            loss = criterion(outputs.logits, labels)\n",
    "            total_loss += loss.item()\n",
    "\n",
    "            _, predicted = torch.max(outputs.logits, 1)\n",
    "            total += labels.size(0)\n",
    "            correct += (predicted == labels).sum().item()\n",
    "\n",
    "    average_loss = total_loss / len(val_loader)\n",
    "    accuracy = 100 * correct / total\n",
    "    return average_loss, accuracy\n"
   ]
  },
  {
   "cell_type": "code",
   "execution_count": null,
   "metadata": {},
   "outputs": [],
   "source": []
  },
  {
   "cell_type": "code",
   "execution_count": 4,
   "metadata": {
    "colab": {
     "base_uri": "https://localhost:8080/",
     "height": 412
    },
    "id": "GroVWqrEBnHE",
    "outputId": "ee1e220e-8176-4cec-8bd3-ef1a260db5b5"
   },
   "outputs": [
    {
     "name": "stdout",
     "output_type": "stream",
     "text": [
      "Epoch 1, Train Loss: 1.0425177549321283, Validation Loss: 0.7008413238280923, Validation Accuracy: 79.34712911687555%\n",
      "Epoch 2, Train Loss: 0.5837089818467057, Validation Loss: 0.5679504651388976, Validation Accuracy: 83.1244535120956%\n",
      "Epoch 3, Train Loss: 0.4834047444626818, Validation Loss: 0.4420983209556534, Validation Accuracy: 86.9309239288837%\n",
      "Epoch 4, Train Loss: 0.4194952034902132, Validation Loss: 0.4582022636143744, Validation Accuracy: 86.02156805596036%\n",
      "Epoch 5, Train Loss: 0.3713090270696648, Validation Loss: 0.36776146534188636, Validation Accuracy: 88.77295249198484%\n",
      "Epoch 6, Train Loss: 0.33641619511884124, Validation Loss: 0.323252580334559, Validation Accuracy: 90.12532789274265%\n",
      "Epoch 7, Train Loss: 0.3069008856923741, Validation Loss: 0.32987569688459045, Validation Accuracy: 89.9446225590207%\n",
      "Epoch 8, Train Loss: 0.28752015053087326, Validation Loss: 0.3171595048997898, Validation Accuracy: 90.24774118332847%\n",
      "Epoch 9, Train Loss: 0.2683204119881624, Validation Loss: 0.2823582806542526, Validation Accuracy: 91.46604488487321%\n",
      "Epoch 10, Train Loss: 0.24877778958161326, Validation Loss: 0.25799795374876056, Validation Accuracy: 92.22384144564268%\n"
     ]
    }
   ],
   "source": [
    "\n",
    "device = torch.device(\"cuda\" if torch.cuda.is_available() else \"cpu\")\n",
    "model.to(device)\n",
    "\n",
    "num_epochs = 10\n",
    "\n",
    "for epoch in range(num_epochs):\n",
    "    train_loss = train(model, train_loader, criterion, optimizer, device)\n",
    "    val_loss, val_accuracy = validate(model, val_loader, criterion, device)\n",
    "    print(f\"Epoch {epoch+1}, Train Loss: {train_loss}, Validation Loss: {val_loss}, Validation Accuracy: {val_accuracy}%\")"
   ]
  },
  {
   "cell_type": "code",
   "execution_count": 4,
   "metadata": {
    "id": "eziGYGIfdsNj"
   },
   "outputs": [
    {
     "name": "stdout",
     "output_type": "stream",
     "text": [
      "env: PYTORCH_CUDA_ALLOC_CONF=max_split_size_mb:100\n"
     ]
    }
   ],
   "source": [
    "%env PYTORCH_CUDA_ALLOC_CONF=max_split_size_mb:100"
   ]
  },
  {
   "cell_type": "code",
   "execution_count": 5,
   "metadata": {
    "id": "5jepAxfNBnJr"
   },
   "outputs": [],
   "source": [
    "torch.save(model.state_dict(), 'model_deit_16_224_batch32_airline_dirty.pth')"
   ]
  },
  {
   "cell_type": "code",
   "execution_count": null,
   "metadata": {},
   "outputs": [],
   "source": [
    "Ac 88"
   ]
  },
  {
   "cell_type": "code",
   "execution_count": null,
   "metadata": {},
   "outputs": [],
   "source": [
    "`batch 32\n",
    " 83.61276050762604%"
   ]
  },
  {
   "cell_type": "code",
   "execution_count": null,
   "metadata": {},
   "outputs": [],
   "source": [
    "facebook/deit-base-distilled-patch16-384\n",
    "\n",
    "\n",
    "Epoch 1, Train Loss: 1.2834445801224543, Validation Loss: 1.1298887333541643, Validation Accuracy: 67.19342604298356%\n",
    "Epoch 2, Train Loss: 1.1603675338921868, Validation Loss: 1.0750638169839102, Validation Accuracy: 69.13573152511205%\n",
    "Epoch 3, Train Loss: 1.2104356321207321, Validation Loss: 1.182404164042536, Validation Accuracy: 66.15331571083783%\n",
    "Epoch 4, Train Loss: 1.2113494933411861, Validation Loss: 1.2457397731503828, Validation Accuracy: 64.27422135386738%\n",
    "Epoch 5, Train Loss: 1.2255239039573875, Validation Loss: 1.1403780703292474, Validation Accuracy: 66.94632800827492%"
   ]
  },
  {
   "cell_type": "code",
   "execution_count": null,
   "metadata": {},
   "outputs": [],
   "source": [
    "batch 32\n",
    "normarization\n",
    "`\n",
    "Epoch 1, Train Loss: 1.1441896153479931, Validation Loss: 0.8961359105374226, Validation Accuracy: 73.37087691069992%\n",
    "Epoch 2, Train Loss: 0.8034051600214367, Validation Loss: 0.7645343799308381, Validation Accuracy: 77.37041719342605%\n",
    "Epoch 3, Train Loss: 0.7498982128597517, Validation Loss: 0.7806886134244183, Validation Accuracy: 76.7727847373865%"
   ]
  },
  {
   "cell_type": "code",
   "execution_count": null,
   "metadata": {},
   "outputs": [],
   "source": []
  },
  {
   "cell_type": "code",
   "execution_count": null,
   "metadata": {},
   "outputs": [],
   "source": []
  },
  {
   "cell_type": "code",
   "execution_count": 4,
   "metadata": {},
   "outputs": [
    {
     "name": "stdout",
     "output_type": "stream",
     "text": [
      "Collecting japanize-matplotlibNote: you may need to restart the kernel to use updated packages.\n",
      "\n",
      "  Downloading japanize-matplotlib-1.1.3.tar.gz (4.1 MB)\n",
      "     ---------------------------------------- 0.0/4.1 MB ? eta -:--:--\n",
      "     ---------------------------------------- 0.0/4.1 MB 960.0 kB/s eta 0:00:05\n",
      "     --- ------------------------------------ 0.3/4.1 MB 3.3 MB/s eta 0:00:02\n",
      "     ------ --------------------------------- 0.7/4.1 MB 4.9 MB/s eta 0:00:01\n",
      "     ----------- ---------------------------- 1.2/4.1 MB 6.2 MB/s eta 0:00:01\n",
      "     ---------------- ----------------------- 1.7/4.1 MB 7.2 MB/s eta 0:00:01\n",
      "     --------------------- ------------------ 2.3/4.1 MB 8.0 MB/s eta 0:00:01\n",
      "     --------------------------- ------------ 2.8/4.1 MB 8.5 MB/s eta 0:00:01\n",
      "     -------------------------------- ------- 3.4/4.1 MB 8.9 MB/s eta 0:00:01\n",
      "     ------------------------------------- -- 3.9/4.1 MB 9.2 MB/s eta 0:00:01\n",
      "     ---------------------------------------- 4.1/4.1 MB 9.0 MB/s eta 0:00:00\n",
      "  Installing build dependencies: started\n",
      "  Installing build dependencies: finished with status 'done'\n",
      "  Getting requirements to build wheel: started\n",
      "  Getting requirements to build wheel: finished with status 'done'\n",
      "  Preparing metadata (pyproject.toml): started\n",
      "  Preparing metadata (pyproject.toml): finished with status 'done'\n",
      "Requirement already satisfied: matplotlib in c:\\users\\keito\\appdata\\local\\packages\\pythonsoftwarefoundation.python.3.11_qbz5n2kfra8p0\\localcache\\local-packages\\python311\\site-packages (from japanize-matplotlib) (3.8.1)\n",
      "Requirement already satisfied: contourpy>=1.0.1 in c:\\users\\keito\\appdata\\local\\packages\\pythonsoftwarefoundation.python.3.11_qbz5n2kfra8p0\\localcache\\local-packages\\python311\\site-packages (from matplotlib->japanize-matplotlib) (1.2.0)\n",
      "Requirement already satisfied: cycler>=0.10 in c:\\users\\keito\\appdata\\local\\packages\\pythonsoftwarefoundation.python.3.11_qbz5n2kfra8p0\\localcache\\local-packages\\python311\\site-packages (from matplotlib->japanize-matplotlib) (0.12.1)\n",
      "Requirement already satisfied: fonttools>=4.22.0 in c:\\users\\keito\\appdata\\local\\packages\\pythonsoftwarefoundation.python.3.11_qbz5n2kfra8p0\\localcache\\local-packages\\python311\\site-packages (from matplotlib->japanize-matplotlib) (4.44.3)\n",
      "Requirement already satisfied: kiwisolver>=1.3.1 in c:\\users\\keito\\appdata\\local\\packages\\pythonsoftwarefoundation.python.3.11_qbz5n2kfra8p0\\localcache\\local-packages\\python311\\site-packages (from matplotlib->japanize-matplotlib) (1.4.5)\n",
      "Requirement already satisfied: numpy<2,>=1.21 in c:\\users\\keito\\appdata\\local\\packages\\pythonsoftwarefoundation.python.3.11_qbz5n2kfra8p0\\localcache\\local-packages\\python311\\site-packages (from matplotlib->japanize-matplotlib) (1.24.1)\n",
      "Requirement already satisfied: packaging>=20.0 in c:\\users\\keito\\appdata\\local\\packages\\pythonsoftwarefoundation.python.3.11_qbz5n2kfra8p0\\localcache\\local-packages\\python311\\site-packages (from matplotlib->japanize-matplotlib) (23.2)\n",
      "Requirement already satisfied: pillow>=8 in c:\\users\\keito\\appdata\\local\\packages\\pythonsoftwarefoundation.python.3.11_qbz5n2kfra8p0\\localcache\\local-packages\\python311\\site-packages (from matplotlib->japanize-matplotlib) (9.3.0)\n",
      "Requirement already satisfied: pyparsing>=2.3.1 in c:\\users\\keito\\appdata\\local\\packages\\pythonsoftwarefoundation.python.3.11_qbz5n2kfra8p0\\localcache\\local-packages\\python311\\site-packages (from matplotlib->japanize-matplotlib) (3.1.1)\n",
      "Requirement already satisfied: python-dateutil>=2.7 in c:\\users\\keito\\appdata\\local\\packages\\pythonsoftwarefoundation.python.3.11_qbz5n2kfra8p0\\localcache\\local-packages\\python311\\site-packages (from matplotlib->japanize-matplotlib) (2.8.2)\n",
      "Requirement already satisfied: six>=1.5 in c:\\users\\keito\\appdata\\local\\packages\\pythonsoftwarefoundation.python.3.11_qbz5n2kfra8p0\\localcache\\local-packages\\python311\\site-packages (from python-dateutil>=2.7->matplotlib->japanize-matplotlib) (1.16.0)\n",
      "Building wheels for collected packages: japanize-matplotlib\n",
      "  Building wheel for japanize-matplotlib (pyproject.toml): started\n",
      "  Building wheel for japanize-matplotlib (pyproject.toml): finished with status 'done'\n",
      "  Created wheel for japanize-matplotlib: filename=japanize_matplotlib-1.1.3-py3-none-any.whl size=4120275 sha256=4a01726131caa07d095520787d6846d26d667d23011ce8fc24f1c3b5a1589755\n",
      "  Stored in directory: c:\\users\\keito\\appdata\\local\\pip\\cache\\wheels\\da\\a1\\71\\b8faeb93276fed10edffcca20746f1ef6f8d9e071eee8425fc\n",
      "Successfully built japanize-matplotlib\n",
      "Installing collected packages: japanize-matplotlib\n",
      "Successfully installed japanize-matplotlib-1.1.3\n"
     ]
    }
   ],
   "source": [
    "pip install japanize-matplotlib"
   ]
  },
  {
   "cell_type": "code",
   "execution_count": 21,
   "metadata": {},
   "outputs": [],
   "source": [
    "##　実装"
   ]
  },
  {
   "cell_type": "code",
   "execution_count": 16,
   "metadata": {},
   "outputs": [],
   "source": [
    "import torch\n",
    "from torchvision import transforms\n",
    "from PIL import Image\n",
    "import matplotlib.pyplot as plt\n",
    "from transformers import AutoImageProcessor, DeiTForImageClassificationWithTeacher\n",
    "\n",
    "# モデルの定義（例：DeiTモデル）\n",
    "model = DeiTForImageClassificationWithTeacher.from_pretrained('facebook/deit-base-distilled-patch16-224')\n",
    "\n",
    "# 保存された重みの読み込み\n",
    "model.load_state_dict(torch.load('model_deit_16_224_batch32_airline_dirty.pth'))\n",
    "\n",
    "# 推論モードに設定\n",
    "model.eval()\n",
    "\n",
    "# 画像の前処理\n",
    "transform = transforms.Compose([\n",
    "    transforms.Resize(224, interpolation=3),\n",
    "    transforms.CenterCrop(224),\n",
    "    transforms.ToTensor(),\n",
    "    # 必要に応じて他の変換を追加\n",
    "])\n"
   ]
  },
  {
   "cell_type": "code",
   "execution_count": 24,
   "metadata": {},
   "outputs": [
    {
     "data": {
      "image/png": "[encoded data removed]",
      "text/plain": [
       "<Figure size 640x480 with 1 Axes>"
      ]
     },
     "metadata": {},
     "output_type": "display_data"
    },
    {
     "name": "stdout",
     "output_type": "stream",
     "text": [
      "クラス 全日空 の確率: 0.3374135494232178\n",
      "クラス 日本航空 の確率: 0.25488385558128357\n",
      "クラス 琉球エアーコミューター の確率: 0.24660450220108032\n",
      "クラス アイベックスエアラインズ の確率: 0.03937695920467377\n",
      "クラス 日本エアコミューター の確率: 0.026981482282280922\n",
      "クラス フジドリームエアラインズ の確率: 0.026500971987843513\n",
      "クラス オリエンタルエアブリッジ の確率: 0.01541833020746708\n",
      "クラス AIRDO の確率: 0.014171251095831394\n",
      "クラス 日本トランスオーシャン航空 の確率: 0.01168121863156557\n",
      "クラス スターフライヤー の確率: 0.00866196770220995\n"
     ]
    }
   ],
   "source": [
    "import japanize_matplotlib\n",
    "\n",
    "# 画像の読み込みと前処理\n",
    "image_path = '/Users/keito/Desktop/tests/IMG_3381.jpg'\n",
    "image = Image.open(image_path)\n",
    "image_tensor = transform(image).unsqueeze(0) \n",
    "\n",
    "with torch.no_grad():\n",
    "    output = model(image_tensor)\n",
    "    probabilities = torch.nn.functional.softmax(output.logits, dim=1)\n",
    "    top_prob, top_catid = torch.topk(probabilities, 10)\n",
    "\n",
    "imagenet_classes = {\n",
    "  0: \"AIRDO\",\n",
    "  1: \"天草エアライン\",\n",
    "  2: \"全日空\",\n",
    "  3: \"ピーチ\",\n",
    "  4: \"フジドリームエアラインズ\",\n",
    "  5: '北海道エアコミューター', \n",
    "  6: \"アイベックスエアラインズ\",\n",
    "  7: \"日本エアコミューター\",\n",
    "  8: \"日本航空\",\n",
    "  9: \"ジェットスター・ジャパン\",\n",
    "  10: \"日本トランスオーシャン航空\",\n",
    "  11: \"オリエンタルエアブリッジ\",\n",
    "  12: \"琉球エアーコミューター\",\n",
    "  13: \"スターフライヤー\",\n",
    "  14: \"スプリング・ジャパン\",\n",
    "  15: \"スカイマーク\",\n",
    "  16: \"ソラシド エア\",\n",
    "  17: \"ジップエア\"\n",
    "}\n",
    "\n",
    "\n",
    "# 画像と予測結果の表示\n",
    "plt.imshow(image)\n",
    "plt.show()\n",
    "# 予測結果の表示\n",
    "for i in range(top_prob.size(1)):\n",
    "    print(f\"クラス {imagenet_classes[top_catid[0][i].item()]} の確率: {top_prob[0][i].item()}\")\n"
   ]
  },
  {
   "cell_type": "code",
   "execution_count": null,
   "metadata": {},
   "outputs": [],
   "source": []
  },
  {
   "cell_type": "code",
   "execution_count": null,
   "metadata": {},
   "outputs": [],
   "source": []
  }
 ],
 "metadata": {
  "accelerator": "GPU",
  "colab": {
   "provenance": []
  },
  "kernelspec": {
   "display_name": "Python 3 (ipykernel)",
   "language": "python",
   "name": "python3"
  },
  "language_info": {
   "codemirror_mode": {
    "name": "ipython",
    "version": 3
   },
   "file_extension": ".py",
   "mimetype": "text/x-python",
   "name": "python",
   "nbconvert_exporter": "python",
   "pygments_lexer": "ipython3",
   "version": "3.11.6"
  },
  "widgets": {
   "application/vnd.jupyter.widget-state+json": {
    "0293c307ae5e4ca99750bda19db67fbf": {
     "model_module": "@jupyter-widgets/base",
     "model_module_version": "1.2.0",
     "model_name": "LayoutModel",
     "state": {
      "_model_module": "@jupyter-widgets/base",
      "_model_module_version": "1.2.0",
      "_model_name": "LayoutModel",
      "_view_count": null,
      "_view_module": "@jupyter-widgets/base",
      "_view_module_version": "1.2.0",
      "_view_name": "LayoutView",
      "align_content": null,
      "align_items": null,
      "align_self": null,
      "border": null,
      "bottom": null,
      "display": null,
      "flex": null,
      "flex_flow": null,
      "grid_area": null,
      "grid_auto_columns": null,
      "grid_auto_flow": null,
      "grid_auto_rows": null,
      "grid_column": null,
      "grid_gap": null,
      "grid_row": null,
      "grid_template_areas": null,
      "grid_template_columns": null,
      "grid_template_rows": null,
      "height": null,
      "justify_content": null,
      "justify_items": null,
      "left": null,
      "margin": null,
      "max_height": null,
      "max_width": null,
      "min_height": null,
      "min_width": null,
      "object_fit": null,
      "object_position": null,
      "order": null,
      "overflow": null,
      "overflow_x": null,
      "overflow_y": null,
      "padding": null,
      "right": null,
      "top": null,
      "visibility": null,
      "width": null
     }
    },
    "12a2ddb67e5846a78dfd066d3cf0ca61": {
     "model_module": "@jupyter-widgets/base",
     "model_module_version": "1.2.0",
     "model_name": "LayoutModel",
     "state": {
      "_model_module": "@jupyter-widgets/base",
      "_model_module_version": "1.2.0",
      "_model_name": "LayoutModel",
      "_view_count": null,
      "_view_module": "@jupyter-widgets/base",
      "_view_module_version": "1.2.0",
      "_view_name": "LayoutView",
      "align_content": null,
      "align_items": null,
      "align_self": null,
      "border": null,
      "bottom": null,
      "display": null,
      "flex": null,
      "flex_flow": null,
      "grid_area": null,
      "grid_auto_columns": null,
      "grid_auto_flow": null,
      "grid_auto_rows": null,
      "grid_column": null,
      "grid_gap": null,
      "grid_row": null,
      "grid_template_areas": null,
      "grid_template_columns": null,
      "grid_template_rows": null,
      "height": null,
      "justify_content": null,
      "justify_items": null,
      "left": null,
      "margin": null,
      "max_height": null,
      "max_width": null,
      "min_height": null,
      "min_width": null,
      "object_fit": null,
      "object_position": null,
      "order": null,
      "overflow": null,
      "overflow_x": null,
      "overflow_y": null,
      "padding": null,
      "right": null,
      "top": null,
      "visibility": null,
      "width": null
     }
    },
    "19367988bef444c9829eee32dcd15674": {
     "model_module": "@jupyter-widgets/controls",
     "model_module_version": "1.5.0",
     "model_name": "HTMLModel",
     "state": {
      "_dom_classes": [],
      "_model_module": "@jupyter-widgets/controls",
      "_model_module_version": "1.5.0",
      "_model_name": "HTMLModel",
      "_view_count": null,
      "_view_module": "@jupyter-widgets/controls",
      "_view_module_version": "1.5.0",
      "_view_name": "HTMLView",
      "description": "",
      "description_tooltip": null,
      "layout": "IPY_MODEL_12a2ddb67e5846a78dfd066d3cf0ca61",
      "placeholder": "​",
      "style": "IPY_MODEL_1f272491dd7d4bac9b77a2abda7aae7e",
      "value": " 349M/349M [00:01&lt;00:00, 243MB/s]"
     }
    },
    "1ba75ea8695e471787b7d63739ec8d1c": {
     "model_module": "@jupyter-widgets/controls",
     "model_module_version": "1.5.0",
     "model_name": "HTMLModel",
     "state": {
      "_dom_classes": [],
      "_model_module": "@jupyter-widgets/controls",
      "_model_module_version": "1.5.0",
      "_model_name": "HTMLModel",
      "_view_count": null,
      "_view_module": "@jupyter-widgets/controls",
      "_view_module_version": "1.5.0",
      "_view_name": "HTMLView",
      "description": "",
      "description_tooltip": null,
      "layout": "IPY_MODEL_0293c307ae5e4ca99750bda19db67fbf",
      "placeholder": "​",
      "style": "IPY_MODEL_6084c0dfe2dd47bcbde87eee4a66fbf9",
      "value": "Downloading (…)lve/main/config.json: 100%"
     }
    },
    "1f272491dd7d4bac9b77a2abda7aae7e": {
     "model_module": "@jupyter-widgets/controls",
     "model_module_version": "1.5.0",
     "model_name": "DescriptionStyleModel",
     "state": {
      "_model_module": "@jupyter-widgets/controls",
      "_model_module_version": "1.5.0",
      "_model_name": "DescriptionStyleModel",
      "_view_count": null,
      "_view_module": "@jupyter-widgets/base",
      "_view_module_version": "1.2.0",
      "_view_name": "StyleView",
      "description_width": ""
     }
    },
    "2e1955e37fd5409f94e69fb9f8eef912": {
     "model_module": "@jupyter-widgets/controls",
     "model_module_version": "1.5.0",
     "model_name": "DescriptionStyleModel",
     "state": {
      "_model_module": "@jupyter-widgets/controls",
      "_model_module_version": "1.5.0",
      "_model_name": "DescriptionStyleModel",
      "_view_count": null,
      "_view_module": "@jupyter-widgets/base",
      "_view_module_version": "1.2.0",
      "_view_name": "StyleView",
      "description_width": ""
     }
    },
    "3078a0aed67c417f8087a9f4dfb5e022": {
     "model_module": "@jupyter-widgets/base",
     "model_module_version": "1.2.0",
     "model_name": "LayoutModel",
     "state": {
      "_model_module": "@jupyter-widgets/base",
      "_model_module_version": "1.2.0",
      "_model_name": "LayoutModel",
      "_view_count": null,
      "_view_module": "@jupyter-widgets/base",
      "_view_module_version": "1.2.0",
      "_view_name": "LayoutView",
      "align_content": null,
      "align_items": null,
      "align_self": null,
      "border": null,
      "bottom": null,
      "display": null,
      "flex": null,
      "flex_flow": null,
      "grid_area": null,
      "grid_auto_columns": null,
      "grid_auto_flow": null,
      "grid_auto_rows": null,
      "grid_column": null,
      "grid_gap": null,
      "grid_row": null,
      "grid_template_areas": null,
      "grid_template_columns": null,
      "grid_template_rows": null,
      "height": null,
      "justify_content": null,
      "justify_items": null,
      "left": null,
      "margin": null,
      "max_height": null,
      "max_width": null,
      "min_height": null,
      "min_width": null,
      "object_fit": null,
      "object_position": null,
      "order": null,
      "overflow": null,
      "overflow_x": null,
      "overflow_y": null,
      "padding": null,
      "right": null,
      "top": null,
      "visibility": null,
      "width": null
     }
    },
    "3920bb41dd1b46469b202e5563cb10b3": {
     "model_module": "@jupyter-widgets/controls",
     "model_module_version": "1.5.0",
     "model_name": "ProgressStyleModel",
     "state": {
      "_model_module": "@jupyter-widgets/controls",
      "_model_module_version": "1.5.0",
      "_model_name": "ProgressStyleModel",
      "_view_count": null,
      "_view_module": "@jupyter-widgets/base",
      "_view_module_version": "1.2.0",
      "_view_name": "StyleView",
      "bar_color": null,
      "description_width": ""
     }
    },
    "4956921e05b54485b69652ed3a8d069b": {
     "model_module": "@jupyter-widgets/base",
     "model_module_version": "1.2.0",
     "model_name": "LayoutModel",
     "state": {
      "_model_module": "@jupyter-widgets/base",
      "_model_module_version": "1.2.0",
      "_model_name": "LayoutModel",
      "_view_count": null,
      "_view_module": "@jupyter-widgets/base",
      "_view_module_version": "1.2.0",
      "_view_name": "LayoutView",
      "align_content": null,
      "align_items": null,
      "align_self": null,
      "border": null,
      "bottom": null,
      "display": null,
      "flex": null,
      "flex_flow": null,
      "grid_area": null,
      "grid_auto_columns": null,
      "grid_auto_flow": null,
      "grid_auto_rows": null,
      "grid_column": null,
      "grid_gap": null,
      "grid_row": null,
      "grid_template_areas": null,
      "grid_template_columns": null,
      "grid_template_rows": null,
      "height": null,
      "justify_content": null,
      "justify_items": null,
      "left": null,
      "margin": null,
      "max_height": null,
      "max_width": null,
      "min_height": null,
      "min_width": null,
      "object_fit": null,
      "object_position": null,
      "order": null,
      "overflow": null,
      "overflow_x": null,
      "overflow_y": null,
      "padding": null,
      "right": null,
      "top": null,
      "visibility": null,
      "width": null
     }
    },
    "5535eaf5b86241c4942f0d03c50246a0": {
     "model_module": "@jupyter-widgets/controls",
     "model_module_version": "1.5.0",
     "model_name": "HBoxModel",
     "state": {
      "_dom_classes": [],
      "_model_module": "@jupyter-widgets/controls",
      "_model_module_version": "1.5.0",
      "_model_name": "HBoxModel",
      "_view_count": null,
      "_view_module": "@jupyter-widgets/controls",
      "_view_module_version": "1.5.0",
      "_view_name": "HBoxView",
      "box_style": "",
      "children": [
       "IPY_MODEL_1ba75ea8695e471787b7d63739ec8d1c",
       "IPY_MODEL_a68e528a08de460389937c2870ba5001",
       "IPY_MODEL_ad21cb54142448c4aa7a27ed69ef86ac"
      ],
      "layout": "IPY_MODEL_cef26c7fa66a48aa99cec85e0a65ed9d"
     }
    },
    "6084c0dfe2dd47bcbde87eee4a66fbf9": {
     "model_module": "@jupyter-widgets/controls",
     "model_module_version": "1.5.0",
     "model_name": "DescriptionStyleModel",
     "state": {
      "_model_module": "@jupyter-widgets/controls",
      "_model_module_version": "1.5.0",
      "_model_name": "DescriptionStyleModel",
      "_view_count": null,
      "_view_module": "@jupyter-widgets/base",
      "_view_module_version": "1.2.0",
      "_view_name": "StyleView",
      "description_width": ""
     }
    },
    "8b6158685d37449fad61b708d84a056d": {
     "model_module": "@jupyter-widgets/base",
     "model_module_version": "1.2.0",
     "model_name": "LayoutModel",
     "state": {
      "_model_module": "@jupyter-widgets/base",
      "_model_module_version": "1.2.0",
      "_model_name": "LayoutModel",
      "_view_count": null,
      "_view_module": "@jupyter-widgets/base",
      "_view_module_version": "1.2.0",
      "_view_name": "LayoutView",
      "align_content": null,
      "align_items": null,
      "align_self": null,
      "border": null,
      "bottom": null,
      "display": null,
      "flex": null,
      "flex_flow": null,
      "grid_area": null,
      "grid_auto_columns": null,
      "grid_auto_flow": null,
      "grid_auto_rows": null,
      "grid_column": null,
      "grid_gap": null,
      "grid_row": null,
      "grid_template_areas": null,
      "grid_template_columns": null,
      "grid_template_rows": null,
      "height": null,
      "justify_content": null,
      "justify_items": null,
      "left": null,
      "margin": null,
      "max_height": null,
      "max_width": null,
      "min_height": null,
      "min_width": null,
      "object_fit": null,
      "object_position": null,
      "order": null,
      "overflow": null,
      "overflow_x": null,
      "overflow_y": null,
      "padding": null,
      "right": null,
      "top": null,
      "visibility": null,
      "width": null
     }
    },
    "8d666de53b8745daa21e1dc2b0d588fe": {
     "model_module": "@jupyter-widgets/controls",
     "model_module_version": "1.5.0",
     "model_name": "HTMLModel",
     "state": {
      "_dom_classes": [],
      "_model_module": "@jupyter-widgets/controls",
      "_model_module_version": "1.5.0",
      "_model_name": "HTMLModel",
      "_view_count": null,
      "_view_module": "@jupyter-widgets/controls",
      "_view_module_version": "1.5.0",
      "_view_name": "HTMLView",
      "description": "",
      "description_tooltip": null,
      "layout": "IPY_MODEL_dfb0704b8b2b4551a56b3aa7d4c429e1",
      "placeholder": "​",
      "style": "IPY_MODEL_99ded83432014bf39d7de4d887129115",
      "value": "Downloading pytorch_model.bin: 100%"
     }
    },
    "99ded83432014bf39d7de4d887129115": {
     "model_module": "@jupyter-widgets/controls",
     "model_module_version": "1.5.0",
     "model_name": "DescriptionStyleModel",
     "state": {
      "_model_module": "@jupyter-widgets/controls",
      "_model_module_version": "1.5.0",
      "_model_name": "DescriptionStyleModel",
      "_view_count": null,
      "_view_module": "@jupyter-widgets/base",
      "_view_module_version": "1.2.0",
      "_view_name": "StyleView",
      "description_width": ""
     }
    },
    "9b7bfa3672234fcdb6d5c505bedf0c31": {
     "model_module": "@jupyter-widgets/base",
     "model_module_version": "1.2.0",
     "model_name": "LayoutModel",
     "state": {
      "_model_module": "@jupyter-widgets/base",
      "_model_module_version": "1.2.0",
      "_model_name": "LayoutModel",
      "_view_count": null,
      "_view_module": "@jupyter-widgets/base",
      "_view_module_version": "1.2.0",
      "_view_name": "LayoutView",
      "align_content": null,
      "align_items": null,
      "align_self": null,
      "border": null,
      "bottom": null,
      "display": null,
      "flex": null,
      "flex_flow": null,
      "grid_area": null,
      "grid_auto_columns": null,
      "grid_auto_flow": null,
      "grid_auto_rows": null,
      "grid_column": null,
      "grid_gap": null,
      "grid_row": null,
      "grid_template_areas": null,
      "grid_template_columns": null,
      "grid_template_rows": null,
      "height": null,
      "justify_content": null,
      "justify_items": null,
      "left": null,
      "margin": null,
      "max_height": null,
      "max_width": null,
      "min_height": null,
      "min_width": null,
      "object_fit": null,
      "object_position": null,
      "order": null,
      "overflow": null,
      "overflow_x": null,
      "overflow_y": null,
      "padding": null,
      "right": null,
      "top": null,
      "visibility": null,
      "width": null
     }
    },
    "a68e528a08de460389937c2870ba5001": {
     "model_module": "@jupyter-widgets/controls",
     "model_module_version": "1.5.0",
     "model_name": "FloatProgressModel",
     "state": {
      "_dom_classes": [],
      "_model_module": "@jupyter-widgets/controls",
      "_model_module_version": "1.5.0",
      "_model_name": "FloatProgressModel",
      "_view_count": null,
      "_view_module": "@jupyter-widgets/controls",
      "_view_module_version": "1.5.0",
      "_view_name": "ProgressView",
      "bar_style": "success",
      "description": "",
      "description_tooltip": null,
      "layout": "IPY_MODEL_9b7bfa3672234fcdb6d5c505bedf0c31",
      "max": 69607,
      "min": 0,
      "orientation": "horizontal",
      "style": "IPY_MODEL_3920bb41dd1b46469b202e5563cb10b3",
      "value": 69607
     }
    },
    "ad21cb54142448c4aa7a27ed69ef86ac": {
     "model_module": "@jupyter-widgets/controls",
     "model_module_version": "1.5.0",
     "model_name": "HTMLModel",
     "state": {
      "_dom_classes": [],
      "_model_module": "@jupyter-widgets/controls",
      "_model_module_version": "1.5.0",
      "_model_name": "HTMLModel",
      "_view_count": null,
      "_view_module": "@jupyter-widgets/controls",
      "_view_module_version": "1.5.0",
      "_view_name": "HTMLView",
      "description": "",
      "description_tooltip": null,
      "layout": "IPY_MODEL_4956921e05b54485b69652ed3a8d069b",
      "placeholder": "​",
      "style": "IPY_MODEL_2e1955e37fd5409f94e69fb9f8eef912",
      "value": " 69.6k/69.6k [00:00&lt;00:00, 3.02MB/s]"
     }
    },
    "b3cf7062c6f0436ba907f6d4a6a44264": {
     "model_module": "@jupyter-widgets/controls",
     "model_module_version": "1.5.0",
     "model_name": "ProgressStyleModel",
     "state": {
      "_model_module": "@jupyter-widgets/controls",
      "_model_module_version": "1.5.0",
      "_model_name": "ProgressStyleModel",
      "_view_count": null,
      "_view_module": "@jupyter-widgets/base",
      "_view_module_version": "1.2.0",
      "_view_name": "StyleView",
      "bar_color": null,
      "description_width": ""
     }
    },
    "cef26c7fa66a48aa99cec85e0a65ed9d": {
     "model_module": "@jupyter-widgets/base",
     "model_module_version": "1.2.0",
     "model_name": "LayoutModel",
     "state": {
      "_model_module": "@jupyter-widgets/base",
      "_model_module_version": "1.2.0",
      "_model_name": "LayoutModel",
      "_view_count": null,
      "_view_module": "@jupyter-widgets/base",
      "_view_module_version": "1.2.0",
      "_view_name": "LayoutView",
      "align_content": null,
      "align_items": null,
      "align_self": null,
      "border": null,
      "bottom": null,
      "display": null,
      "flex": null,
      "flex_flow": null,
      "grid_area": null,
      "grid_auto_columns": null,
      "grid_auto_flow": null,
      "grid_auto_rows": null,
      "grid_column": null,
      "grid_gap": null,
      "grid_row": null,
      "grid_template_areas": null,
      "grid_template_columns": null,
      "grid_template_rows": null,
      "height": null,
      "justify_content": null,
      "justify_items": null,
      "left": null,
      "margin": null,
      "max_height": null,
      "max_width": null,
      "min_height": null,
      "min_width": null,
      "object_fit": null,
      "object_position": null,
      "order": null,
      "overflow": null,
      "overflow_x": null,
      "overflow_y": null,
      "padding": null,
      "right": null,
      "top": null,
      "visibility": null,
      "width": null
     }
    },
    "dfb0704b8b2b4551a56b3aa7d4c429e1": {
     "model_module": "@jupyter-widgets/base",
     "model_module_version": "1.2.0",
     "model_name": "LayoutModel",
     "state": {
      "_model_module": "@jupyter-widgets/base",
      "_model_module_version": "1.2.0",
      "_model_name": "LayoutModel",
      "_view_count": null,
      "_view_module": "@jupyter-widgets/base",
      "_view_module_version": "1.2.0",
      "_view_name": "LayoutView",
      "align_content": null,
      "align_items": null,
      "align_self": null,
      "border": null,
      "bottom": null,
      "display": null,
      "flex": null,
      "flex_flow": null,
      "grid_area": null,
      "grid_auto_columns": null,
      "grid_auto_flow": null,
      "grid_auto_rows": null,
      "grid_column": null,
      "grid_gap": null,
      "grid_row": null,
      "grid_template_areas": null,
      "grid_template_columns": null,
      "grid_template_rows": null,
      "height": null,
      "justify_content": null,
      "justify_items": null,
      "left": null,
      "margin": null,
      "max_height": null,
      "max_width": null,
      "min_height": null,
      "min_width": null,
      "object_fit": null,
      "object_position": null,
      "order": null,
      "overflow": null,
      "overflow_x": null,
      "overflow_y": null,
      "padding": null,
      "right": null,
      "top": null,
      "visibility": null,
      "width": null
     }
    },
    "e39bae9430ac4394b480c660e9eff398": {
     "model_module": "@jupyter-widgets/controls",
     "model_module_version": "1.5.0",
     "model_name": "FloatProgressModel",
     "state": {
      "_dom_classes": [],
      "_model_module": "@jupyter-widgets/controls",
      "_model_module_version": "1.5.0",
      "_model_name": "FloatProgressModel",
      "_view_count": null,
      "_view_module": "@jupyter-widgets/controls",
      "_view_module_version": "1.5.0",
      "_view_name": "ProgressView",
      "bar_style": "success",
      "description": "",
      "description_tooltip": null,
      "layout": "IPY_MODEL_8b6158685d37449fad61b708d84a056d",
      "max": 349435207,
      "min": 0,
      "orientation": "horizontal",
      "style": "IPY_MODEL_b3cf7062c6f0436ba907f6d4a6a44264",
      "value": 349435207
     }
    },
    "fe3e69677d7d4b7c8bfcfe7f46af6f71": {
     "model_module": "@jupyter-widgets/controls",
     "model_module_version": "1.5.0",
     "model_name": "HBoxModel",
     "state": {
      "_dom_classes": [],
      "_model_module": "@jupyter-widgets/controls",
      "_model_module_version": "1.5.0",
      "_model_name": "HBoxModel",
      "_view_count": null,
      "_view_module": "@jupyter-widgets/controls",
      "_view_module_version": "1.5.0",
      "_view_name": "HBoxView",
      "box_style": "",
      "children": [
       "IPY_MODEL_8d666de53b8745daa21e1dc2b0d588fe",
       "IPY_MODEL_e39bae9430ac4394b480c660e9eff398",
       "IPY_MODEL_19367988bef444c9829eee32dcd15674"
      ],
      "layout": "IPY_MODEL_3078a0aed67c417f8087a9f4dfb5e022"
     }
    }
   }
  }
 },
 "nbformat": 4,
 "nbformat_minor": 4
}
